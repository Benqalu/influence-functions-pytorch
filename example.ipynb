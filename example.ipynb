{
 "cells": [
  {
   "cell_type": "code",
   "execution_count": 1,
   "metadata": {},
   "outputs": [],
   "source": [
    "import torch\n",
    "import numpy as np\n",
    "import pandas as pd"
   ]
  },
  {
   "cell_type": "code",
   "execution_count": 2,
   "metadata": {},
   "outputs": [],
   "source": [
    "# A sample torch model with layer attribute\n",
    "# inps: Number of input features\n",
    "# hiddens: Number of neurons on each layer, \n",
    "#     e.g., [] means no hidden layer, \n",
    "#     [128] means one hidden layer with 128 neurons\n",
    "# bias: Decide if there is a bias on each layer, must be true in the example\n",
    "# seed: Reproductivity, None means random seed, otherwise specifiy a integer\n",
    "# hidden_activation: Activation function after each hidden layer\n",
    "\n",
    "class TorchNNCore(torch.nn.Module):\n",
    "    def __init__(\n",
    "        self, inps, hiddens=[], bias=True, seed=None, hidden_activation=torch.nn.ReLU\n",
    "    ):\n",
    "        super(TorchNNCore, self).__init__()\n",
    "        if seed is not None:\n",
    "            torch.manual_seed(seed)\n",
    "        struct = [inps] + hiddens + [1]\n",
    "        self.layers = [] # This layer attribute is required under \n",
    "        for i in range(1, len(struct)):\n",
    "            self.layers.append(\n",
    "                torch.nn.Linear(\n",
    "                    in_features=struct[i - 1], out_features=struct[i], bias=bias\n",
    "                )\n",
    "            )\n",
    "            if i == len(struct) - 1:\n",
    "                self.layers.append(torch.nn.Sigmoid())\n",
    "            else:\n",
    "                self.layers.append(hidden_activation())\n",
    "        self.model = torch.nn.Sequential(*self.layers)\n",
    "\n",
    "    def forward(self, x):\n",
    "        output = self.model(x)\n",
    "        return output"
   ]
  },
  {
   "cell_type": "code",
   "execution_count": 3,
   "metadata": {},
   "outputs": [
    {
     "name": "stdout",
     "output_type": "stream",
     "text": [
      "torch.Size([45222, 98]) torch.Size([45222, 1])\n"
     ]
    }
   ],
   "source": [
    "# Prepare training & testing dataset\n",
    "data = pd.read_csv('./adult.csv').to_numpy()\n",
    "X_train = torch.tensor(data[:,:-1], dtype=torch.float)\n",
    "y_train = torch.tensor(data[:,-1].reshape(-1,1), dtype=torch.float)\n",
    "print(X_train.shape, y_train.shape)"
   ]
  },
  {
   "cell_type": "code",
   "execution_count": 4,
   "metadata": {},
   "outputs": [],
   "source": [
    "# Specify loss function, define model and optimizer\n",
    "loss_func = torch.nn.BCELoss()\n",
    "model = TorchNNCore(inps=X_train.shape[1], hiddens=[128], hidden_activation=torch.nn.LeakyReLU)\n",
    "optim = torch.optim.Adam(model.parameters(),lr=0.001)"
   ]
  },
  {
   "cell_type": "code",
   "execution_count": 5,
   "metadata": {},
   "outputs": [
    {
     "name": "stdout",
     "output_type": "stream",
     "text": [
      "Epoch = 0, loss = 3.0384, accuracy=0.7749\n",
      "Epoch = 10, loss = 3.4716, accuracy=0.7750\n",
      "Epoch = 20, loss = 3.4623, accuracy=0.7753\n",
      "Epoch = 30, loss = 3.3985, accuracy=0.7784\n",
      "Epoch = 40, loss = 3.3206, accuracy=0.7791\n",
      "Epoch = 50, loss = 3.2799, accuracy=0.7831\n",
      "Epoch = 60, loss = 2.7653, accuracy=0.7842\n",
      "Epoch = 70, loss = 0.5468, accuracy=0.7840\n",
      "Epoch = 80, loss = 0.6242, accuracy=0.8030\n",
      "Epoch = 90, loss = 3.2521, accuracy=0.7954\n",
      "Epoch = 100, loss = 3.3302, accuracy=0.8087\n",
      "Epoch = 110, loss = 3.3266, accuracy=0.8190\n",
      "Epoch = 120, loss = 3.3204, accuracy=0.8217\n",
      "Epoch = 130, loss = 3.3152, accuracy=0.8230\n",
      "Epoch = 140, loss = 3.3073, accuracy=0.8246\n",
      "Epoch = 150, loss = 3.2904, accuracy=0.8257\n",
      "Epoch = 160, loss = 3.2645, accuracy=0.8270\n",
      "Epoch = 170, loss = 3.2236, accuracy=0.8278\n",
      "Epoch = 180, loss = 3.2078, accuracy=0.8285\n",
      "Epoch = 190, loss = 3.1956, accuracy=0.8287\n",
      "Epoch = 200, loss = 3.1532, accuracy=0.8288\n",
      "Epoch = 210, loss = 3.1009, accuracy=0.8292\n",
      "Epoch = 220, loss = 3.0247, accuracy=0.8295\n",
      "Epoch = 230, loss = 2.3245, accuracy=0.8308\n",
      "Epoch = 240, loss = 0.7416, accuracy=0.8304\n",
      "Epoch = 250, loss = 0.4707, accuracy=0.8315\n",
      "Epoch = 260, loss = 0.3900, accuracy=0.8439\n",
      "Epoch = 270, loss = 0.3602, accuracy=0.8487\n",
      "Epoch = 280, loss = 0.3564, accuracy=0.8487\n",
      "Epoch = 290, loss = 0.3527, accuracy=0.8493\n"
     ]
    }
   ],
   "source": [
    "y_train_np = y_train.detach().numpy()\n",
    "for epoch in range(0,300):\n",
    "    optim.zero_grad()\n",
    "    y_pred = model(X_train)\n",
    "    loss = loss_func(y_pred, y_train)\n",
    "    loss.backward()\n",
    "    optim.step()\n",
    "    if epoch%10==0:\n",
    "        y_pred_np = (y_pred.detach().numpy()) > 0.5\n",
    "        accuracy = sum(y_pred_np == y_train_np)/y_train_np.shape[0]\n",
    "        print('Epoch = %d, loss = %.4f, accuracy=%.4f'%(epoch, loss.tolist(), accuracy))\n",
    "optim.zero_grad()"
   ]
  },
  {
   "cell_type": "code",
   "execution_count": 6,
   "metadata": {},
   "outputs": [
    {
     "name": "stdout",
     "output_type": "stream",
     "text": [
      "TorchNNCore(\n",
      "  (model): Sequential(\n",
      "    (0): Linear(in_features=98, out_features=128, bias=True)\n",
      "    (1): LeakyReLU(negative_slope=0.01)\n",
      "    (2): Linear(in_features=128, out_features=1, bias=True)\n",
      "    (3): Sigmoid()\n",
      "  )\n",
      ")\n"
     ]
    }
   ],
   "source": [
    "# Before using influence function, we show the structure of the model\n",
    "print(model)"
   ]
  },
  {
   "cell_type": "code",
   "execution_count": 7,
   "metadata": {},
   "outputs": [
    {
     "name": "stdout",
     "output_type": "stream",
     "text": [
      "Linear(in_features=98, out_features=128, bias=True)\n",
      "LeakyReLU(negative_slope=0.01)\n",
      "Linear(in_features=128, out_features=1, bias=True)\n",
      "Sigmoid()\n"
     ]
    }
   ],
   "source": [
    "# And we print the \"layer\" attribute, which is used to fetch the layers above\n",
    "for item in model.layers:\n",
    "    print(item)"
   ]
  },
  {
   "cell_type": "code",
   "execution_count": 8,
   "metadata": {},
   "outputs": [],
   "source": [
    "# Define InfluenceFunction class\n",
    "# model: A input pytorch model, must be trained and have the \"layer\" attribute\n",
    "#        If you got \"LinAlgError: Singular matrix\" error, try to change the activation functions\n",
    "#        of the model, e.g., change from torch.nn.ReLU to torch.nn.LeakyReLU\n",
    "# X_train: Feature matrix used to train model\n",
    "# y_train: Feature matrix used to train model\n",
    "# loss_func: Pre-defined loss function for the trained model\n",
    "# layer_index: The layer whose parameters are used for the calculation, usually the last linear layer\n",
    "\n",
    "from InfluenceFunction import InfluenceFunction\n",
    "\n",
    "infl = InfluenceFunction(\n",
    "    model = model, # Warning: the class will take a snapshot of the model, any further change requires new instance\n",
    "    X_train = X_train, # Features, must be torch.Tensor\n",
    "    y_train = y_train, # Labels, must be torch.Tensor\n",
    "    loss_func = loss_func, # In this example, it's BCELoss\n",
    "    layer_index = -2, # In this example, as shown in the model structure, we use the second last layer \n",
    ")"
   ]
  },
  {
   "cell_type": "code",
   "execution_count": 9,
   "metadata": {},
   "outputs": [
    {
     "name": "stdout",
     "output_type": "stream",
     "text": [
      "0.014368615895081661\n",
      "0.05015461935497948\n",
      "0.31368170602208667\n",
      "-0.036526050754445795\n",
      "0.018993798028887496\n",
      "12.38835333230411\n",
      "-0.010228952354072672\n",
      "-0.34808446597169707\n",
      "-0.6135861515553496\n",
      "0.570157817675859\n"
     ]
    }
   ],
   "source": [
    "# Example of influence on removing records\n",
    "for index in range(0,10):\n",
    "    print(infl.influence_remove_single(index))\n",
    "\n",
    "# Note: The influence scores depend the current status of the model,\n",
    "# even for the same model configuration with different random seed,\n",
    "# the model may converge to different point in hyperspace, which will\n",
    "# result in different score for the same records.\n",
    "# Note2: The absolute value of the influece score is meaningless, but\n",
    "# they are comparable with each other."
   ]
  },
  {
   "cell_type": "code",
   "execution_count": 10,
   "metadata": {},
   "outputs": [
    {
     "name": "stdout",
     "output_type": "stream",
     "text": [
      "0.0359761768314585\n"
     ]
    }
   ],
   "source": [
    "# Adding an attribute with given x and y\n",
    "# Here as an arbitrary example we fetch No.24 record and add its duplicate\n",
    "index = 24\n",
    "x = X_train[index].reshape(1,-1).detach()\n",
    "y = y_train[index].reshape(1,-1).detach()\n",
    "print(infl.influence_add_single(x,y))"
   ]
  },
  {
   "cell_type": "code",
   "execution_count": 11,
   "metadata": {},
   "outputs": [
    {
     "name": "stdout",
     "output_type": "stream",
     "text": [
      "5.133265683132964\n"
     ]
    }
   ],
   "source": [
    "# Modifying x and y, e.g., flipping y to 1-y\n",
    "# Here as an arbitrary example we flip the label of No.48 record\n",
    "index = 48\n",
    "x = X_train[index].reshape(1,-1).detach()\n",
    "y = y_train[index].reshape(1,-1).detach()\n",
    "print(infl.influence_modify_single(index,x,1-y))"
   ]
  }
 ],
 "metadata": {
  "kernelspec": {
   "display_name": "Python 3",
   "language": "python",
   "name": "python3"
  },
  "language_info": {
   "codemirror_mode": {
    "name": "ipython",
    "version": 3
   },
   "file_extension": ".py",
   "mimetype": "text/x-python",
   "name": "python",
   "nbconvert_exporter": "python",
   "pygments_lexer": "ipython3",
   "version": "3.7.9"
  }
 },
 "nbformat": 4,
 "nbformat_minor": 4
}
