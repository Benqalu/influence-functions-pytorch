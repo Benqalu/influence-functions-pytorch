{
 "cells": [
  {
   "cell_type": "code",
   "execution_count": 12,
   "metadata": {},
   "outputs": [],
   "source": [
    "import torch\n",
    "import numpy as np\n",
    "import pandas as pd"
   ]
  },
  {
   "cell_type": "code",
   "execution_count": 13,
   "metadata": {},
   "outputs": [],
   "source": [
    "# A sample torch model with layer attribute\n",
    "# inps: Number of input features\n",
    "# hiddens: Number of neurons on each layer, \n",
    "#     e.g., [] means no hidden layer, \n",
    "#     [128] means one hidden layer with 128 neurons\n",
    "# bias: Decide if there is a bias on each layer, must be true in the example\n",
    "# seed: Reproductivity, None means random seed, otherwise specifiy a integer\n",
    "# hidden_activation: Activation function after each hidden layer\n",
    "\n",
    "class TorchNNCore(torch.nn.Module):\n",
    "    def __init__(\n",
    "        self, inps, hiddens=[], bias=True, seed=None, hidden_activation=torch.nn.ReLU\n",
    "    ):\n",
    "        super(TorchNNCore, self).__init__()\n",
    "        if seed is not None:\n",
    "            torch.manual_seed(seed)\n",
    "        struct = [inps] + hiddens + [1]\n",
    "        self.layers = [] # This layer attribute is required under \n",
    "        for i in range(1, len(struct)):\n",
    "            self.layers.append(\n",
    "                torch.nn.Linear(\n",
    "                    in_features=struct[i - 1], out_features=struct[i], bias=bias\n",
    "                )\n",
    "            )\n",
    "            if i == len(struct) - 1:\n",
    "                self.layers.append(torch.nn.Sigmoid())\n",
    "            else:\n",
    "                self.layers.append(hidden_activation())\n",
    "        self.model = torch.nn.Sequential(*self.layers)\n",
    "\n",
    "    def forward(self, x):\n",
    "        output = self.model(x)\n",
    "        return output"
   ]
  },
  {
   "cell_type": "code",
   "execution_count": 14,
   "metadata": {},
   "outputs": [
    {
     "name": "stdout",
     "output_type": "stream",
     "text": [
      "torch.Size([45222, 98]) torch.Size([45222, 1])\n"
     ]
    }
   ],
   "source": [
    "# Prepare training & testing dataset\n",
    "data = pd.read_csv('./adult.csv').to_numpy()\n",
    "X_train = torch.tensor(data[:,:-1], dtype=torch.float)\n",
    "y_train = torch.tensor(data[:,-1].reshape(-1,1), dtype=torch.float)\n",
    "print(X_train.shape, y_train.shape)"
   ]
  },
  {
   "cell_type": "code",
   "execution_count": 15,
   "metadata": {},
   "outputs": [],
   "source": [
    "# Specify loss function, define model and optimizer\n",
    "loss_func = torch.nn.BCELoss()\n",
    "model = TorchNNCore(inps=X_train.shape[1], hiddens=[128], hidden_activation=torch.nn.LeakyReLU)\n",
    "optim = torch.optim.Adam(model.parameters(),lr=0.001)"
   ]
  },
  {
   "cell_type": "code",
   "execution_count": 16,
   "metadata": {},
   "outputs": [
    {
     "name": "stdout",
     "output_type": "stream",
     "text": [
      "Epoch = 0, loss = 5.1729, accuracy=0.2463\n",
      "Epoch = 10, loss = 1.4849, accuracy=0.7520\n",
      "Epoch = 20, loss = 0.8486, accuracy=0.7541\n",
      "Epoch = 30, loss = 1.5883, accuracy=0.7758\n",
      "Epoch = 40, loss = 0.6647, accuracy=0.7778\n",
      "Epoch = 50, loss = 0.5212, accuracy=0.7905\n",
      "Epoch = 60, loss = 0.4986, accuracy=0.7909\n",
      "Epoch = 70, loss = 0.4935, accuracy=0.7953\n",
      "Epoch = 80, loss = 0.4729, accuracy=0.8001\n",
      "Epoch = 90, loss = 0.4620, accuracy=0.8028\n",
      "Epoch = 100, loss = 0.4519, accuracy=0.8012\n",
      "Epoch = 110, loss = 0.4411, accuracy=0.8035\n",
      "Epoch = 120, loss = 0.4311, accuracy=0.8064\n",
      "Epoch = 130, loss = 0.4214, accuracy=0.8058\n",
      "Epoch = 140, loss = 0.4122, accuracy=0.8080\n",
      "Epoch = 150, loss = 0.4036, accuracy=0.8108\n",
      "Epoch = 160, loss = 0.3956, accuracy=0.8168\n",
      "Epoch = 170, loss = 0.3881, accuracy=0.8278\n",
      "Epoch = 180, loss = 0.3817, accuracy=0.8342\n",
      "Epoch = 190, loss = 0.3760, accuracy=0.8389\n",
      "Epoch = 200, loss = 0.3702, accuracy=0.8420\n",
      "Epoch = 210, loss = 0.3658, accuracy=0.8438\n",
      "Epoch = 220, loss = 0.3623, accuracy=0.8452\n",
      "Epoch = 230, loss = 0.3594, accuracy=0.8449\n",
      "Epoch = 240, loss = 0.3570, accuracy=0.8461\n",
      "Epoch = 250, loss = 0.3549, accuracy=0.8468\n",
      "Epoch = 260, loss = 0.3531, accuracy=0.8473\n",
      "Epoch = 270, loss = 0.3514, accuracy=0.8476\n",
      "Epoch = 280, loss = 0.3500, accuracy=0.8477\n",
      "Epoch = 290, loss = 0.3486, accuracy=0.8481\n"
     ]
    }
   ],
   "source": [
    "y_train_np = y_train.detach().numpy()\n",
    "for epoch in range(0,300):\n",
    "    optim.zero_grad()\n",
    "    y_pred = model(X_train)\n",
    "    loss = loss_func(y_pred, y_train)\n",
    "    loss.backward()\n",
    "    optim.step()\n",
    "    if epoch%10==0:\n",
    "        y_pred_np = (y_pred.detach().numpy()) > 0.5\n",
    "        accuracy = sum(y_pred_np == y_train_np)/y_train_np.shape[0]\n",
    "        print('Epoch = %d, loss = %.4f, accuracy=%.4f'%(epoch, loss.tolist(), accuracy))\n",
    "optim.zero_grad()"
   ]
  },
  {
   "cell_type": "code",
   "execution_count": 17,
   "metadata": {},
   "outputs": [
    {
     "name": "stdout",
     "output_type": "stream",
     "text": [
      "TorchNNCore(\n",
      "  (model): Sequential(\n",
      "    (0): Linear(in_features=98, out_features=128, bias=True)\n",
      "    (1): LeakyReLU(negative_slope=0.01)\n",
      "    (2): Linear(in_features=128, out_features=1, bias=True)\n",
      "    (3): Sigmoid()\n",
      "  )\n",
      ")\n"
     ]
    }
   ],
   "source": [
    "# Before using influence function, we show the structure of the model\n",
    "print(model)"
   ]
  },
  {
   "cell_type": "code",
   "execution_count": 18,
   "metadata": {},
   "outputs": [
    {
     "name": "stdout",
     "output_type": "stream",
     "text": [
      "Linear(in_features=98, out_features=128, bias=True)\n",
      "LeakyReLU(negative_slope=0.01)\n",
      "Linear(in_features=128, out_features=1, bias=True)\n",
      "Sigmoid()\n"
     ]
    }
   ],
   "source": [
    "# And we print the \"layer\" attribute, which is used to fetch the layers above\n",
    "for item in model.layers:\n",
    "    print(item)"
   ]
  },
  {
   "cell_type": "code",
   "execution_count": 19,
   "metadata": {},
   "outputs": [],
   "source": [
    "# Define InfluenceFunction class\n",
    "# model: A input pytorch model, must be trained and have the \"layer\" attribute\n",
    "#        If you got \"LinAlgError: Singular matrix\" error, try to change the activation functions\n",
    "#        of the model, e.g., change from torch.nn.ReLU to torch.nn.LeakyReLU\n",
    "# X_train: Feature matrix used to train model\n",
    "# y_train: Feature matrix used to train model\n",
    "# loss_func: Pre-defined loss function for the trained model\n",
    "# layer_index: The layer whose parameters are used for the calculation, usually the last linear layer\n",
    "\n",
    "from InfluenceFunction import InfluenceFunction\n",
    "\n",
    "infl = InfluenceFunction(\n",
    "    model = model, # Warning: the class will take a snapshot of the model, any further change requires new instance\n",
    "    X_train = X_train, # Features, must be torch.Tensor\n",
    "    y_train = y_train, # Labels, must be torch.Tensor\n",
    "    loss_func = loss_func, # In this example, it's BCELoss\n",
    "    layer_index = -2, # In this example, as shown in the model structure, we use the second last layer \n",
    ")"
   ]
  },
  {
   "cell_type": "code",
   "execution_count": 20,
   "metadata": {},
   "outputs": [
    {
     "name": "stdout",
     "output_type": "stream",
     "text": [
      "0.0110690408557112\n",
      "0.030149696397503256\n",
      "-0.030685513105875195\n",
      "0.005000645515317564\n",
      "-0.0003853191273733604\n",
      "0.4308733392514985\n",
      "0.01716383154794046\n",
      "0.15613184786533502\n",
      "0.18516136923261683\n",
      "0.17227156178141856\n"
     ]
    }
   ],
   "source": [
    "# Example of influence on removing records\n",
    "for index in range(0,10):\n",
    "    print(infl.influence_remove_single(index))\n",
    "\n",
    "# Note: The influence scores depend the current status of the model,\n",
    "# even for the same model configuration with different random seed,\n",
    "# the model may converge to different point in hyperspace, which will\n",
    "# result in different score for the same records.\n",
    "# Note2: The absolute value of the influece score is meaningless, but\n",
    "# they are comparable with each other."
   ]
  },
  {
   "cell_type": "code",
   "execution_count": 21,
   "metadata": {},
   "outputs": [
    {
     "name": "stdout",
     "output_type": "stream",
     "text": [
      "0.053138982658725256\n"
     ]
    }
   ],
   "source": [
    "# Adding an attribute with given x and y\n",
    "# Here as an arbitrary example we fetch No.24 record and add its duplicate\n",
    "index = 24\n",
    "x = X_train[index].reshape(1,-1).detach()\n",
    "y = y_train[index].reshape(1,-1).detach()\n",
    "print(infl.influence_add_single(x,y))"
   ]
  },
  {
   "cell_type": "code",
   "execution_count": 22,
   "metadata": {},
   "outputs": [
    {
     "name": "stdout",
     "output_type": "stream",
     "text": [
      "0.5662256904308368\n"
     ]
    }
   ],
   "source": [
    "# Modifying x and y, e.g., flipping y to 1-y\n",
    "# Here as an arbitrary example we flip the label of No.48 record\n",
    "index = 48\n",
    "x = X_train[index].reshape(1,-1).detach()\n",
    "y = y_train[index].reshape(1,-1).detach()\n",
    "print(infl.influence_modify_single(index,x,1-y))"
   ]
  }
 ],
 "metadata": {
  "kernelspec": {
   "display_name": "Python 3",
   "language": "python",
   "name": "python3"
  },
  "language_info": {
   "codemirror_mode": {
    "name": "ipython",
    "version": 3
   },
   "file_extension": ".py",
   "mimetype": "text/x-python",
   "name": "python",
   "nbconvert_exporter": "python",
   "pygments_lexer": "ipython3",
   "version": "3.7.9"
  }
 },
 "nbformat": 4,
 "nbformat_minor": 4
}
